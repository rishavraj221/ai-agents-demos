{
 "cells": [
  {
   "cell_type": "markdown",
   "id": "337a153a",
   "metadata": {},
   "source": [
    "Let's enhance the existing v1 LangGraph-based customer support agent with **LLM integration**, **rescheduling logic**, **conditional edges**, and a more sophisticated workflow. \n",
    "\n",
    "## Step 1: Integrate LLM for Intent/Entity Extraction\n",
    "\n",
    "Replace the mock input parser with an LLM-powered system using OpenAI.\n",
    "\n",
    "### 1.1 Install Dependencies"
   ]
  },
  {
   "cell_type": "code",
   "execution_count": null,
   "id": "bb38e191",
   "metadata": {
    "vscode": {
     "languageId": "plaintext"
    }
   },
   "outputs": [],
   "source": [
    "!pip install openai python-dotenv"
   ]
  },
  {
   "cell_type": "markdown",
   "id": "28901d4b",
   "metadata": {},
   "source": [
    "### 1.2 Add OpenAI Parser Node"
   ]
  },
  {
   "cell_type": "code",
   "execution_count": null,
   "id": "4493823c",
   "metadata": {
    "vscode": {
     "languageId": "plaintext"
    }
   },
   "outputs": [],
   "source": [
    "import openai\n",
    "from dotenv import load_dotenv\n",
    "import os\n",
    "\n",
    "load_dotenv()\n",
    "openai.api_key = os.getenv(\"OPENAI_API_KEY\")\n",
    "\n",
    "def llm_parse_input(state: AgentState) -> AgentState:\n",
    "    \"\"\"Use LLM to extract intent/entities.\"\"\"\n",
    "    user_input = state[\"user_input\"]\n",
    "    \n",
    "    response = openai.chat.completions.create(\n",
    "        model=\"gpt-3.5-turbo\",\n",
    "        messages=[{\n",
    "            \"role\": \"system\",\n",
    "            \"content\": \"\"\"Extract intent and entities from travel queries:\n",
    "            - Intent: cancel_booking, reschedule_booking, general_inquiry\n",
    "            - Entities: booking_id, new_date, destination\n",
    "            Return JSON only.\"\"\"\n",
    "        }, {\n",
    "            \"role\": \"user\",\n",
    "            \"content\": user_input\n",
    "        }]\n",
    "    )\n",
    "    \n",
    "    parsed = json.loads(response.choices[0].message.content)\n",
    "    state.update(parsed)\n",
    "    return state"
   ]
  },
  {
   "cell_type": "markdown",
   "id": "b499a567",
   "metadata": {},
   "source": [
    "## Step 2: Add Rescheduling Logic\n",
    "\n",
    "### 2.1 Extend Mock API\n",
    "\n",
    "Add a new endpoint:"
   ]
  },
  {
   "cell_type": "code",
   "execution_count": null,
   "id": "a4c3e719",
   "metadata": {},
   "outputs": [],
   "source": [
    "@app.post(\"/bookings/{booking_id}/reschedule\")\n",
    "def reschedule_booking(booking_id: str, new_date: str, api_key: str = Header(...)):\n",
    "    if booking_id not in mock_bookings:\n",
    "        raise HTTPException(status_code=404, detail=\"Booking not found\")\n",
    "    mock_bookings[booking_id][\"date\"] = new_date\n",
    "    return {\"message\": f\"Rescheduled to {new_date}\"}"
   ]
  },
  {
   "cell_type": "markdown",
   "id": "24b559c2",
   "metadata": {},
   "source": [
    "### 2.2 Add Rescheduling Nodes"
   ]
  },
  {
   "cell_type": "code",
   "execution_count": null,
   "id": "b9b13527",
   "metadata": {},
   "outputs": [],
   "source": [
    "def check_availability(state: AgentState) -> AgentState:\n",
    "    \"\"\"Mock flight/hotel availability check.\"\"\"\n",
    "    state[\"is_available\"] = True  # Replace with actual API call\n",
    "    return state\n",
    "\n",
    "def process_rescheduling(state: AgentState) -> AgentState:\n",
    "    \"\"\"Call reschedule API.\"\"\"\n",
    "    if state.get(\"confirmation\") and state[\"is_available\"]:\n",
    "        response = requests.post(\n",
    "            f\"{ngrok_tunnel.public_url}/bookings/{state['booking_id']}/reschedule\",\n",
    "            headers={\"api_key\": state[\"api_key\"]},\n",
    "            json={\"new_date\": state[\"new_date\"]}\n",
    "        )\n",
    "        if response.status_code != 200:\n",
    "            state[\"error\"] = \"Rescheduling failed\"\n",
    "    return state"
   ]
  },
  {
   "cell_type": "markdown",
   "id": "c7677ad6",
   "metadata": {},
   "source": [
    "## Step 3: Enhance Graph with Conditional Edges\n",
    "\n",
    "### 3.1 Intent-Based Routing"
   ]
  },
  {
   "cell_type": "code",
   "execution_count": null,
   "id": "d1cf3c52",
   "metadata": {},
   "outputs": [],
   "source": [
    "def route_intent(state: AgentState) -> str:\n",
    "    \"\"\"Conditional edge: Route based on intent.\"\"\"\n",
    "    if state.get(\"error\"):\n",
    "        return \"error_handler\"\n",
    "    intent = state.get(\"intent\")\n",
    "    if intent == \"cancel_booking\":\n",
    "        return \"confirm_cancellation\"\n",
    "    elif intent == \"reschedule_booking\":\n",
    "        return \"check_availability\"\n",
    "    else:\n",
    "        return \"general_inquiry_handler\"\n",
    "\n",
    "builder.add_conditional_edges(\n",
    "    \"authenticate\",\n",
    "    route_intent\n",
    ")"
   ]
  }
 ],
 "metadata": {
  "language_info": {
   "name": "python"
  }
 },
 "nbformat": 4,
 "nbformat_minor": 5
}
