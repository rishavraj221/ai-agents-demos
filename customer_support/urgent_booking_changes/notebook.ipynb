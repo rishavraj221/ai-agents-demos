{
 "cells": [
  {
   "cell_type": "markdown",
   "id": "40f74bb8",
   "metadata": {},
   "source": [
    "# Real World Problems Series\n",
    "\n",
    "### Customer Support AI Agent - Urgent Booking Changes\n",
    "\n",
    "Automate cancellations/rescheduling using mock travel agency APIs and LangGraph.\n",
    "\n",
    "**Date**: 30 April, 2025\n",
    "\n",
    "### 1. Objective\n",
    "Build an AI agent to handle urgent booking changes (cancellations/rescheduling) by:\n",
    "- Integrating with travel agency APIs.\n",
    "- Using LangGraph for workflow orchestration.\n",
    "- Ensuring secure authentication and user confirmation.\n",
    "\n",
    "### 2. Setup\n",
    "Install Dependencies"
   ]
  },
  {
   "cell_type": "code",
   "execution_count": null,
   "id": "d4789d4d",
   "metadata": {},
   "outputs": [],
   "source": [
    "!pip install langgraph requests fastapi uvicorn python-dotenv nest-asyncio pyngrok > /dev/null"
   ]
  },
  {
   "cell_type": "code",
   "execution_count": null,
   "id": "b2a76812",
   "metadata": {},
   "outputs": [],
   "source": [
    "import getpass\n",
    "import os\n",
    "\n",
    "\n",
    "def _set_env(var: str):\n",
    "    if not os.environ.get(var):\n",
    "        os.environ[var] = getpass.getpass(f\"{var}: \")\n",
    "\n",
    "_set_env(\"OPENAI_API_KEY\")\n",
    "_set_env(\"TAVILY_API_KEY\")\n",
    "_set_env(\"NGROK_AUTH_TOKEN\")"
   ]
  },
  {
   "cell_type": "markdown",
   "id": "56c6b402",
   "metadata": {},
   "source": [
    "### Mock APIs (FastAPI)\n",
    "Create a mock server to simulate the travel agency's backend:"
   ]
  },
  {
   "cell_type": "code",
   "execution_count": null,
   "id": "9059ad7e",
   "metadata": {},
   "outputs": [],
   "source": [
    "from fastapi import FastAPI, HTTPException, Header\n",
    "from pydantic import BaseModel\n",
    "import uvicorn\n",
    "from pyngrok import ngrok\n",
    "\n",
    "app = FastAPI()\n",
    "\n",
    "# Authenticate ngrok\n",
    "ngrok.set_auth_token(os.getenv(\"NGROK_AUTH_TOKEN\"))\n",
    "\n",
    "# Mock database\n",
    "mock_bookings = {\n",
    "    \"BOOKING123\": {\n",
    "        \"user_id\": \"USER456\",\n",
    "        \"status\": \"confirmed\",\n",
    "        \"flight\": \"NYC-LON 2024-10-20\"\n",
    "    }\n",
    "}\n",
    "\n",
    "# --- Mock APIs ---\n",
    "@app.get(\"/bookings/{booking_id}\")\n",
    "def get_booking(booking_id: str, api_key: str = Header(...)):\n",
    "  if booking_id not in mock_bookings:\n",
    "    raise HTTPException(status_code=404, detail=\"Booking not found\")\n",
    "  return mock_bookings[booking_id]\n",
    "\n",
    "@app.post(\"/bookings/{booking_id}/cancel\")\n",
    "def cancel_booking(booking_id: str, api_key: str = Header(...)):\n",
    "  if booking_id not in mock_bookings:\n",
    "    raise HTTPException(status_code=404, detail=\"Booking not found\")\n",
    "  mock_bookings[booking_id][\"status\"] = \"cancelled\"\n",
    "  return {\"message\": \"Cancellation successful\"}\n",
    "\n",
    "# Start server via ngrok (for Colab Compatibility)\n",
    "ngrok_tunnel = ngrok.connect(8000)\n",
    "print(f\"API URL: {ngrok_tunnel.public_url}\")\n",
    "\n",
    "import nest_asyncio\n",
    "nest_asyncio.apply()\n",
    "uvicorn.run(app, host=\"0.0.0.0\", port=8000)"
   ]
  },
  {
   "cell_type": "markdown",
   "id": "6737671f",
   "metadata": {},
   "source": [
    "### 3. Core Components\n",
    "\n",
    "**State Schema**"
   ]
  },
  {
   "cell_type": "code",
   "execution_count": null,
   "id": "ecd9cd7d",
   "metadata": {},
   "outputs": [],
   "source": [
    "from langgraph.graph import StateGraph, END\n",
    "from typing import TypedDict, Optional\n",
    "import requests\n",
    "\n",
    "class AgentState(TypedDict):\n",
    "    user_input: str\n",
    "    booking_id: Optional[str]\n",
    "    api_key: Optional[str]\n",
    "    intent: Optional[str]\n",
    "    booking_details: Optional[dict]\n",
    "    confirmation: Optional[bool]\n",
    "    error: Optional[str]"
   ]
  },
  {
   "cell_type": "markdown",
   "id": "232dd6d0",
   "metadata": {},
   "source": [
    "**Nodes**"
   ]
  },
  {
   "cell_type": "code",
   "execution_count": null,
   "id": "53d9affc",
   "metadata": {},
   "outputs": [],
   "source": [
    "# ---- Node 1: Parse User Input ----\n",
    "def parse_input(state: AgentState) -> AgentState:\n",
    "  \"\"\"Extract booking ID/intent from natural language.\"\"\"\n",
    "  text = state[\"user_input\"].lower()\n",
    "  state[\"intent\"] = \"cancel_booking\" if \"cancel\" in text else \"unknown\"\n",
    "  state[\"booking_id\"] = \"BOOKING123\" # Mock extraction (use LLM in production)\n",
    "  return state\n",
    "\n",
    "# ---- Node 2: Authenticate ----\n",
    "def authenticate(state: AgentState) -> AgentState:\n",
    "  \"\"\"Validate API key against mock system.\"\"\"\n",
    "  if state.get(\"api_key\") != \"SECRET_KEY_123\":\n",
    "    state[\"error\"] = \"Invalid API key\"\n",
    "  return state\n",
    "\n",
    "# ---- Node 3: Fetch Booking Details ----\n",
    "def fetch_booking(state: AgentState) -> AgentState:\n",
    "  \"\"\"Call mock API to retrieve booking data.\"\"\"\n",
    "  if state.get(\"error\"):\n",
    "    return state # Skip if auth failed\n",
    "  \n",
    "  booking_id = state[\"booking_id\"]\n",
    "  response = requests.get(\n",
    "      f\"{ngrok_tunnel.public_url}/bookings/{booking_id}\",\n",
    "      headers={\"api_key\": state[\"api_key\"]}\n",
    "  )\n",
    "  if response.status_code == 200:\n",
    "    state[\"booking_details\"] = response.json()\n",
    "  else:\n",
    "    state[\"error\"] = response.json()[\"detail\"]\n",
    "  return state\n",
    "\n",
    "# ---- Node 4: Confirm Action ----\n",
    "def confirm_action(state: AgentState) -> AgentState:\n",
    "  \"\"\"Seek user confirmation (mock UI interaction).\"\"\"\n",
    "  if not state.get(\"error\"):\n",
    "    print(f\"PROMPT: Cancel booking {state['booking_id']}? [yes/no]\")\n",
    "    state[\"confirmation\"] = True # Simulate user input \"yes\"\n",
    "  return state\n",
    "\n",
    "# ---- Node 5: Process Cancellation ----\n",
    "def process_cancellation(state: AgentState) -> AgentState:\n",
    "  \"\"\"Execute cancellation via mock API.\"\"\"\n",
    "  if state.get(\"confirmation\") and not state.get(\"error\"):\n",
    "    response = requests.post(\n",
    "        f\"{ngrok_tunnel.public_url}/bookings/{state['booking_id']}/cancel\",\n",
    "        headers={\"api_key\": state[\"api_key\"]}\n",
    "    )\n",
    "    if response.status_code != 200:\n",
    "      state[\"error\"] = \"Cancellation failed\"\n",
    "  return state\n",
    "\n",
    "# ---- Node 6: Error Handler ----\n",
    "def handle_error(state: AgentState) -> AgentState:\n",
    "  \"\"\"Route errors to escalation or retry.\"\"\"\n",
    "  if state.get(\"error\"):\n",
    "    print(f\"ERROR: {state['error']} - Escalating to human agent.\")\n",
    "  return state"
   ]
  },
  {
   "cell_type": "markdown",
   "id": "69ed18f8",
   "metadata": {},
   "source": [
    "### 4. Workflow Graph"
   ]
  },
  {
   "cell_type": "code",
   "execution_count": null,
   "id": "7bf1a4a6",
   "metadata": {},
   "outputs": [],
   "source": [
    "# Build LangGraph\n",
    "builder = StateGraph(AgentState)\n",
    "\n",
    "# Add Nodes\n",
    "builder.add_node(\"parse_input\", parse_input)\n",
    "builder.add_node(\"authenticate\", authenticate)\n",
    "builder.add_node(\"fetch_booking\", fetch_booking)\n",
    "builder.add_node(\"confirm_action\", confirm_action)\n",
    "builder.add_node(\"process_cancellation\", process_cancellation)\n",
    "builder.add_node(\"error_handler\", handle_error)\n",
    "\n",
    "# Define edges\n",
    "builder.set_entry_point(\"parse_input\")\n",
    "builder.add_edge(\"parse_input\", \"authenticate\")\n",
    "builder.add_edge(\"authenticate\", \"fetch_booking\")\n",
    "builder.add_edge(\"fetch_booking\", \"confirm_action\")\n",
    "builder.add_edge(\"confirm_action\", \"process_cancellation\")\n",
    "builder.add_edge(\"process_cancellation\", \"error_handler\")\n",
    "builder.add_edge(\"error_handler\", END)\n",
    "\n",
    "# Conditional edges (example)\n",
    "# builder.add_conditional_edges(\"authenticate\", lambda x: \"error_handler\" if x.get(\"error\") else \"fetch_booking\")\n",
    "\n",
    "agent = builder.compile()"
   ]
  },
  {
   "cell_type": "markdown",
   "id": "347dc60a",
   "metadata": {},
   "source": [
    "### 5. Testing & Validation\n",
    "\n",
    "**Test Case 1: Successful Cancellation**"
   ]
  },
  {
   "cell_type": "code",
   "execution_count": null,
   "id": "11673702",
   "metadata": {},
   "outputs": [],
   "source": [
    "initial_state = {\n",
    "    \"user_input\": \"Urgent! Cancel my booking BOOKING123\",\n",
    "    \"api_key\": \"SECRET_KEY_123\"\n",
    "}\n",
    "\n",
    "result = agent.invoke(initial_state)\n",
    "print(\"Final State:\", result)\n",
    "print(\"Booking Status:\", mock_bookings[\"BOOKING123\"][\"status\"]) # Should be \"cancelled\""
   ]
  },
  {
   "cell_type": "markdown",
   "id": "305b2342",
   "metadata": {},
   "source": [
    "**Test Case 2: Authentication Failure**"
   ]
  },
  {
   "cell_type": "code",
   "execution_count": null,
   "id": "6798f483",
   "metadata": {},
   "outputs": [],
   "source": [
    "initial_state = {\n",
    "    \"user_input\": \"Cancel BOOKING123\",\n",
    "    \"api_key\": \"WRONG_KEY\"\n",
    "}\n",
    "\n",
    "result = agent.invoke(initial_state) # Should escalate error"
   ]
  }
 ],
 "metadata": {
  "kernelspec": {
   "display_name": ".venv",
   "language": "python",
   "name": "python3"
  },
  "language_info": {
   "name": "python",
   "version": "3.11.11"
  }
 },
 "nbformat": 4,
 "nbformat_minor": 5
}
